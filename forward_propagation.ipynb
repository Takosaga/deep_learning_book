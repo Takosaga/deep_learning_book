{
 "cells": [
  {
   "cell_type": "markdown",
   "metadata": {},
   "source": [
    "# Intro to neural predection: Forward propagation"
   ]
  },
  {
   "cell_type": "markdown",
   "metadata": {},
   "source": [
    "Step 1: Predict\n",
    "\n",
    "Later, you’ll find that the number of datapoints you process at a time has a significant\n",
    "impact on what a network looks like. You might be wondering, “How do I choose how\n",
    "many datapoints to propagate at a time?” The answer is based on whether you think the\n",
    "neural network can be accurate with the data you give it.\n",
    "For example, if I’m trying to predict whether there’s a cat in a photo, I definitely need to\n",
    "show my network all the pixels of an image at once. Why? Well, if I sent you only one\n",
    "pixel of an image, could you classify whether the image contained a cat? Me neither!\n",
    "**(That’s a general rule of thumb, by the way: always present enough information to the\n",
    "network, where “enough information” is defined loosely as how much a human might\n",
    "need to make the same prediction.)**"
   ]
  },
  {
   "cell_type": "code",
   "execution_count": 4,
   "metadata": {},
   "outputs": [],
   "source": [
    "#1 An empty network\n",
    "weight = 0.1\n",
    "def neural_network(input, weight):\n",
    "    prediction = input * weight\n",
    "    return prediction"
   ]
  },
  {
   "cell_type": "code",
   "execution_count": 8,
   "metadata": {},
   "outputs": [],
   "source": [
    "#2 inserting one input datapoint\n",
    "number_of_toes = [8.5, 9.5, 10, 9]\n",
    "input = number_of_toes[0]"
   ]
  },
  {
   "cell_type": "code",
   "execution_count": 9,
   "metadata": {},
   "outputs": [],
   "source": [
    "#3 multiplying input by weight and deposting the predection \n",
    "pred = neural_network(input,weight)"
   ]
  },
  {
   "cell_type": "code",
   "execution_count": 10,
   "metadata": {},
   "outputs": [
    {
     "name": "stdout",
     "output_type": "stream",
     "text": [
      "0.8500000000000001\n"
     ]
    }
   ],
   "source": [
    "print(pred)"
   ]
  },
  {
   "cell_type": "markdown",
   "metadata": {},
   "source": [
    "**How does the network learn?**\n",
    "\n",
    "Trial and error! First, it tries to make a prediction. Then, it sees whether the prediction was too\n",
    "high or too low. Finally, it changes the weight (up or down) to predict more accurately the\n",
    "next time it sees the same input. "
   ]
  },
  {
   "cell_type": "code",
   "execution_count": 11,
   "metadata": {},
   "outputs": [],
   "source": [
    "# 1 an empty network with multiple inputs\n",
    "weights = [0.1, 0.2, 0]\n",
    "def neural_network(input, weights):\n",
    " pred = w_sum(input,weights)\n",
    " return pred"
   ]
  },
  {
   "cell_type": "code",
   "execution_count": 12,
   "metadata": {},
   "outputs": [],
   "source": [
    "# 2 inserting one input datapoint\n",
    "toes = [8.5, 9.5, 9.9, 9.0]\n",
    "wlrec = [0.65, 0.8, 0.8, 0.9]\n",
    "nfans = [1.2, 1.3, 0.5, 1.0]\n",
    "input = [toes[0],wlrec[0],nfans[0]]"
   ]
  },
  {
   "cell_type": "code",
   "execution_count": 13,
   "metadata": {},
   "outputs": [],
   "source": [
    "# 3 performing a weigthed sum of inputs\n",
    "\n",
    "def w_sum(a,b):\n",
    "\n",
    " assert(len(a) == len(b))\n",
    " output = 0\n",
    " for i in range(len(a)): output += (a[i] * b[i])\n",
    " return output"
   ]
  },
  {
   "cell_type": "code",
   "execution_count": 14,
   "metadata": {},
   "outputs": [
    {
     "name": "stdout",
     "output_type": "stream",
     "text": [
      "0.9800000000000001\n"
     ]
    }
   ],
   "source": [
    "# 4 depositing the prediction\n",
    "pred = neural_network(input, weights)\n",
    "print(pred)"
   ]
  }
 ],
 "metadata": {
  "kernelspec": {
   "display_name": "deep_learning_book",
   "language": "python",
   "name": "python3"
  },
  "language_info": {
   "codemirror_mode": {
    "name": "ipython",
    "version": 3
   },
   "file_extension": ".py",
   "mimetype": "text/x-python",
   "name": "python",
   "nbconvert_exporter": "python",
   "pygments_lexer": "ipython3",
   "version": "3.12.1"
  }
 },
 "nbformat": 4,
 "nbformat_minor": 2
}
